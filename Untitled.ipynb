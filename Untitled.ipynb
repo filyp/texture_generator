{
 "cells": [
  {
   "cell_type": "code",
   "execution_count": null,
   "id": "bbe2d07a",
   "metadata": {},
   "outputs": [],
   "source": [
    "# import plotly.graph_objects as go\n",
    "# from ipywidgets import interact, IntSlider\n",
    "\n",
    "# plt.style.use(\"dark_background\")\n",
    "\n",
    "# @interact(t=IntSlider(min=0, max=len(zs)-1, step=1, value=0))\n",
    "# def update(t):\n",
    "#     plt.figure(figsize = (10,10))\n",
    "#     plt.imshow(zs[t], extent=[-1, 1, -1, 1])\n"
   ]
  },
  {
   "cell_type": "code",
   "execution_count": null,
   "id": "298e81b7-13c2-47e6-b4e6-6cbd8a3b64b0",
   "metadata": {},
   "outputs": [],
   "source": [
    "import numpy as np\n",
    "import matplotlib.pyplot as plt\n",
    "import imageio\n",
    "import ipywidgets\n",
    "\n",
    "def draw_gif(zs):\n",
    "    # rescale each image to 0-255 and convert to uint8\n",
    "    images_scaled = []\n",
    "    for image in zs:\n",
    "        image = (image - np.min(image)) / (np.max(image) - np.min(image)) * 255\n",
    "        images_scaled.append(image.astype(np.uint8))\n",
    "\n",
    "    # make the images bigger\n",
    "    stretch = 1\n",
    "    images_scaled = [np.repeat(np.repeat(image, stretch, axis=0), stretch, axis=1) for image in images_scaled]\n",
    "\n",
    "    imageio.mimsave('movie.gif', images_scaled, format='gif', fps=6)\n",
    "\n",
    "    with open(\"movie.gif\", \"rb\") as file:\n",
    "        # read file as string into `image` \n",
    "        image = file.read()\n",
    "\n",
    "    return ipywidgets.Image(\n",
    "        value=image,\n",
    "        format='gif',\n",
    "    )"
   ]
  },
  {
   "cell_type": "code",
   "execution_count": null,
   "id": "d0632434",
   "metadata": {},
   "outputs": [],
   "source": [
    "size = 150\n",
    "# create 2D numpy mesh\n",
    "x_range = np.linspace(-1, 1, size)\n",
    "y_range = np.linspace(-1, 1, size)\n",
    "X, Y = np.meshgrid(x_range, y_range)\n",
    "\n",
    "Z = np.random.rand(size, size)"
   ]
  },
  {
   "cell_type": "code",
   "execution_count": null,
   "id": "1cf8af58",
   "metadata": {},
   "outputs": [],
   "source": [
    "alpha = 4\n",
    "wavelet_list = [\n",
    "    # (0, 30, 0.1),\n",
    "    # (15, 26, 0.1),\n",
    "    # (-15, 26, 0.1),\n",
    "    (0, 80, 0.1),\n",
    "    (80, 0, 0.1),\n",
    "]\n",
    "\n",
    "masks = []\n",
    "for a, b, deviation in wavelet_list:\n",
    "    cos_mask = np.cos((X) * a + (Y) * b)\n",
    "    gauss_mask = np.exp(-((X) ** 2 + (Y) ** 2) / (2 * deviation ** 2))\n",
    "    regularized_gauss_mask = gauss_mask / np.sum(gauss_mask)\n",
    "    masks.append(cos_mask * regularized_gauss_mask)\n",
    "\n",
    "masks_tensor = np.zeros([len(masks), Z.shape[0], Z.shape[1], Z.shape[0], Z.shape[1]])\n",
    "for i in range(len(x_range)):\n",
    "    for j in range(len(y_range)):\n",
    "        for k in range(len(masks)):\n",
    "            masks_tensor[k, i, j, :, :] = np.roll(np.roll(masks[k], i, axis=0), j, axis=1)\n",
    "\n",
    "def update_z(Z, alpha):\n",
    "    updates = np.zeros_like(Z)\n",
    "    forces = np.tensordot(masks_tensor, Z, axes=2)\n",
    "    updates = np.sum(forces ** 5, axis=0)\n",
    "    updates = np.abs(updates) ** (1/5) # * np.sign(update)\n",
    "    \n",
    "    # regularize updates\n",
    "    updates = updates / np.std(updates)\n",
    "    return Z + updates * alpha\n",
    "\n",
    "zs = [Z]\n",
    "for i in range(20):\n",
    "    new_z = update_z(zs[-1], alpha)\n",
    "    zs.append(new_z)\n",
    "\n",
    "draw_gif(zs)"
   ]
  },
  {
   "cell_type": "code",
   "execution_count": null,
   "id": "0eefae33",
   "metadata": {},
   "outputs": [],
   "source": []
  },
  {
   "cell_type": "code",
   "execution_count": null,
   "id": "4b182ca3",
   "metadata": {},
   "outputs": [],
   "source": []
  }
 ],
 "metadata": {
  "kernelspec": {
   "display_name": "Python 3 (ipykernel)",
   "language": "python",
   "name": "python3"
  },
  "language_info": {
   "codemirror_mode": {
    "name": "ipython",
    "version": 3
   },
   "file_extension": ".py",
   "mimetype": "text/x-python",
   "name": "python",
   "nbconvert_exporter": "python",
   "pygments_lexer": "ipython3",
   "version": "3.10.4"
  }
 },
 "nbformat": 4,
 "nbformat_minor": 5
}
