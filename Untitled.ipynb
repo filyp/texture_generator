{
 "cells": [
  {
   "cell_type": "code",
   "execution_count": 25,
   "id": "bbe2d07a",
   "metadata": {},
   "outputs": [],
   "source": [
    "# import plotly.graph_objects as go\n",
    "# from ipywidgets import interact, IntSlider\n",
    "\n",
    "# plt.style.use(\"dark_background\")\n",
    "\n",
    "# @interact(t=IntSlider(min=0, max=len(zs)-1, step=1, value=0))\n",
    "# def update(t):\n",
    "#     plt.figure(figsize = (10,10))\n",
    "#     plt.imshow(zs[t], extent=[-1, 1, -1, 1])\n"
   ]
  },
  {
   "cell_type": "code",
   "execution_count": 1,
   "id": "298e81b7-13c2-47e6-b4e6-6cbd8a3b64b0",
   "metadata": {},
   "outputs": [],
   "source": [
    "import numpy as np\n",
    "import matplotlib.pyplot as plt"
   ]
  },
  {
   "cell_type": "code",
   "execution_count": 2,
   "id": "d0632434",
   "metadata": {},
   "outputs": [],
   "source": [
    "size = 100\n",
    "# create 2D numpy mesh\n",
    "x_range = np.linspace(-1, 1, size)\n",
    "y_range = np.linspace(-1, 1, size)\n",
    "X, Y = np.meshgrid(x_range, y_range)\n",
    "\n",
    "Z = np.random.rand(size, size)"
   ]
  },
  {
   "cell_type": "code",
   "execution_count": 20,
   "id": "1cf8af58",
   "metadata": {},
   "outputs": [],
   "source": [
    "alpha = 4\n",
    "wavelet_list = [\n",
    "    (10, 30, 0.1),\n",
    "    (-30, 10, 0.1),\n",
    "    # (20, 20, 0.2),\n",
    "]\n",
    "\n",
    "masks = []\n",
    "for a, b, deviation in wavelet_list:\n",
    "    cos_mask = np.cos((X) * a + (Y) * b)\n",
    "    gauss_mask = np.exp(-((X) ** 2 + (Y) ** 2) / (2 * deviation ** 2))\n",
    "    regularized_gauss_mask = gauss_mask / np.sum(gauss_mask)\n",
    "    masks.append(cos_mask * regularized_gauss_mask)\n",
    "\n",
    "def update_z(Z, alpha):\n",
    "    updates = np.zeros_like(Z)\n",
    "    for i, x in zip(range(len(x_range)), x_range):\n",
    "        for j, y in zip(range(len(y_range)), y_range):\n",
    "            centered_Z = np.roll(np.roll(Z, -i, axis=0), -j, axis=1)\n",
    "            forces = [np.sum(centered_Z * mask) for mask in masks]\n",
    "            update = (forces[0] ** 3 + forces[1] ** 3)\n",
    "            updates[i, j] = update\n",
    "    \n",
    "    # regularize updates\n",
    "    updates = updates / np.std(updates)\n",
    "\n",
    "    updates = np.abs(updates) ** (1/3)\n",
    "\n",
    "    return Z + updates * alpha\n",
    "\n",
    "zs = [Z]\n",
    "for i in range(20):\n",
    "    new_z = update_z(zs[-1], alpha)\n",
    "    zs.append(new_z)"
   ]
  },
  {
   "cell_type": "code",
   "execution_count": 21,
   "id": "5b2fa1c0",
   "metadata": {},
   "outputs": [
    {
     "data": {
      "application/vnd.jupyter.widget-view+json": {
       "model_id": "7f3d37cec2784ef8b6f78db7b2966f21",
       "version_major": 2,
       "version_minor": 0
      },
      "text/plain": [
       "Image(value=b'GIF89a\\xf4\\x01\\xf4\\x01\\x87\\x00\\x00\\xff\\xff\\xff\\xfe\\xfe\\xfe\\xfd\\xfd\\xfd\\xfc\\xfc\\xfc\\xfb\\xfb\\xfb\\x…"
      ]
     },
     "metadata": {},
     "output_type": "display_data"
    }
   ],
   "source": [
    "import imageio, ipywidgets\n",
    "# rescale each image to 0-255 and convert to uint8\n",
    "images_scaled = []\n",
    "for image in zs:\n",
    "    image = (image - np.min(image)) / (np.max(image) - np.min(image)) * 255\n",
    "    images_scaled.append(image.astype(np.uint8))\n",
    "\n",
    "# make the images bigger\n",
    "stretch = 5\n",
    "images_scaled = [np.repeat(np.repeat(image, stretch, axis=0), stretch, axis=1) for image in images_scaled]\n",
    "\n",
    "imageio.mimsave('movie.gif', images_scaled, format='gif', fps=6)\n",
    "\n",
    "with open(\"movie.gif\", \"rb\") as file:\n",
    "    # read file as string into `image` \n",
    "    image = file.read()\n",
    "\n",
    "ipywidgets.Image(\n",
    "    value=image,\n",
    "    format='gif',\n",
    "    # height=400,\n",
    "    # width=400,\n",
    ")"
   ]
  },
  {
   "cell_type": "code",
   "execution_count": null,
   "id": "94ebcbb1-aeb6-4a84-a738-efdab1ba7fe0",
   "metadata": {},
   "outputs": [],
   "source": []
  }
 ],
 "metadata": {
  "kernelspec": {
   "display_name": "Python 3 (ipykernel)",
   "language": "python",
   "name": "python3"
  },
  "language_info": {
   "codemirror_mode": {
    "name": "ipython",
    "version": 3
   },
   "file_extension": ".py",
   "mimetype": "text/x-python",
   "name": "python",
   "nbconvert_exporter": "python",
   "pygments_lexer": "ipython3",
   "version": "3.10.4"
  }
 },
 "nbformat": 4,
 "nbformat_minor": 5
}
